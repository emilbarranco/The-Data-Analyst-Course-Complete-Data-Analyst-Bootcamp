{
 "cells": [
  {
   "cell_type": "markdown",
   "id": "a972d3d9",
   "metadata": {},
   "source": [
    "## Working with Text Data and Argument Specifiers"
   ]
  },
  {
   "cell_type": "code",
   "execution_count": 4,
   "id": "7c9252c5",
   "metadata": {},
   "outputs": [
    {
     "name": "stdout",
     "output_type": "stream",
     "text": [
      "This item is from product category \"A\".\n"
     ]
    }
   ],
   "source": [
    "product_category = 'A'\n",
    "print('This item is from product category \"%s\".' % product_category)\n",
    "\n",
    "# Argument specifier: \"%s\"\n",
    "# Used after the desired string is placed, then use the modulus operator and place the variable. "
   ]
  },
  {
   "cell_type": "code",
   "execution_count": 8,
   "id": "a61b4f3c",
   "metadata": {},
   "outputs": [
    {
     "name": "stdout",
     "output_type": "stream",
     "text": [
      "This item is from product category \"C\".\n"
     ]
    }
   ],
   "source": [
    "product_category = ['A', 'B', 'C']\n",
    "print('This item is from product category \"%s\".' % product_category[2])\n",
    "\n",
    "# Argument specifier can also be used with lists while specifying the value within them.\n",
    "# %s - the combination of symbols that we use to indicate where we would like to insert not just a string, \n",
    "# but also any value or object that can have a styring representation."
   ]
  },
  {
   "cell_type": "code",
   "execution_count": 9,
   "id": "ae1fb6d2",
   "metadata": {},
   "outputs": [
    {
     "name": "stdout",
     "output_type": "stream",
     "text": [
      "This item is from product category \"600\".\n"
     ]
    }
   ],
   "source": [
    "quantities = [500, 600]\n",
    "print('This item is from product category \"%s\".' % quantities[1])"
   ]
  },
  {
   "cell_type": "code",
   "execution_count": 10,
   "id": "0b6f9cbc",
   "metadata": {},
   "outputs": [
    {
     "name": "stdout",
     "output_type": "stream",
     "text": [
      "We currently have 500 available units of this item.\n"
     ]
    }
   ],
   "source": [
    "# Note that \"%d\" - the argument specifier for inserting integers.\n",
    "print(\"We currently have %d available units of this item.\" % quantities[0])"
   ]
  },
  {
   "cell_type": "code",
   "execution_count": 12,
   "id": "ce7537ce",
   "metadata": {},
   "outputs": [
    {
     "name": "stdout",
     "output_type": "stream",
     "text": [
      "This stock costs $60.350000 per share.\n"
     ]
    }
   ],
   "source": [
    "stock_share_price_list = [40.50, 60.35]\n",
    "print(\"This stock costs $%f per share.\" % stock_share_price_list[1])\n",
    "\n",
    "# Note that \"%f\" - provides six digits after the decimal point. We can add the following indicators: \n",
    "\n",
    "# \"$%f\": $60.3500000\n",
    "# \"$%.f\": $60\n",
    "# \"$%.1f\": $60.4\n",
    "# \"$%.2f\": $60.35"
   ]
  },
  {
   "cell_type": "code",
   "execution_count": 16,
   "id": "cdbccd46",
   "metadata": {},
   "outputs": [
    {
     "name": "stdout",
     "output_type": "stream",
     "text": [
      "Currently, we have 600 units of category \"B\" products in store.\n"
     ]
    }
   ],
   "source": [
    "i = 1\n",
    "print(\"Currently, we have %d units of category \\\"%s\\\" products in store.\" % (quantities[i], product_category[i]))\n",
    "\n",
    "# By using the varibale \"i\", we can switch the values presented in the console without altering the existing code."
   ]
  },
  {
   "cell_type": "markdown",
   "id": "b9e8a549",
   "metadata": {},
   "source": [
    "## Manipulating Python String"
   ]
  },
  {
   "cell_type": "code",
   "execution_count": 17,
   "id": "fcaa059f",
   "metadata": {},
   "outputs": [],
   "source": [
    "# All string manipulation techniques involve the use of character combination with a backslash \"(\\)\""
   ]
  },
  {
   "cell_type": "code",
   "execution_count": 20,
   "id": "4cda87ac",
   "metadata": {},
   "outputs": [
    {
     "name": "stdout",
     "output_type": "stream",
     "text": [
      "This product is from \n",
      "\n",
      "Category \"A\".\n"
     ]
    }
   ],
   "source": [
    "# \\n (End of Line) - creates a new line and places the content there.\n",
    "print('This product is from \\n\\nCategory \"A\".')"
   ]
  },
  {
   "cell_type": "code",
   "execution_count": 21,
   "id": "aff16814",
   "metadata": {},
   "outputs": [
    {
     "name": "stdout",
     "output_type": "stream",
     "text": [
      "This product is from Category \"A\". \t\t That product is from category \"B\".\n"
     ]
    }
   ],
   "source": [
    "# \\t (Tab) - creates a space in between strings.\n",
    "print('This product is from Category \"A\". \\t\\t That product is from category \"B\".')"
   ]
  },
  {
   "cell_type": "code",
   "execution_count": 23,
   "id": "b2968176",
   "metadata": {},
   "outputs": [
    {
     "name": "stdout",
     "output_type": "stream",
     "text": [
      "This product is from Category \"A\". \r",
      "Product 0001\n"
     ]
    }
   ],
   "source": [
    "# \\r (Carriage Return) - replaces the same number of characters at the start.\n",
    "print('This product is from Category \"A\". \\rProduct 0001')"
   ]
  },
  {
   "cell_type": "markdown",
   "id": "58212359",
   "metadata": {},
   "source": [
    "## Using Various Python String Methods - Part 1"
   ]
  },
  {
   "cell_type": "code",
   "execution_count": 24,
   "id": "b1b93947",
   "metadata": {},
   "outputs": [],
   "source": [
    "# String Methods are text manipulation techniques."
   ]
  },
  {
   "cell_type": "code",
   "execution_count": 25,
   "id": "1f84c2b6",
   "metadata": {},
   "outputs": [
    {
     "data": {
      "text/plain": [
       "'Price per unit'"
      ]
     },
     "execution_count": 25,
     "metadata": {},
     "output_type": "execute_result"
    }
   ],
   "source": [
    "s = 'Price per unit'\n",
    "s"
   ]
  },
  {
   "cell_type": "code",
   "execution_count": 26,
   "id": "81ed80a9",
   "metadata": {},
   "outputs": [
    {
     "data": {
      "text/plain": [
       "'Cost per unit'"
      ]
     },
     "execution_count": 26,
     "metadata": {},
     "output_type": "execute_result"
    }
   ],
   "source": [
    "s1 = s.replace('Price', 'Cost') # first parameter is the word we wish to remove, second is the replacement\n",
    "s1"
   ]
  },
  {
   "cell_type": "code",
   "execution_count": 27,
   "id": "faae3d19",
   "metadata": {},
   "outputs": [],
   "source": [
    "# The methods \".startswith()\" and \".endswith()\" are used to check if a certain string begins or ends with the\n",
    "# string that has been specified as an argument. (not required to be a full word, and it is case sensitive)"
   ]
  },
  {
   "cell_type": "code",
   "execution_count": 28,
   "id": "a68ff4c8",
   "metadata": {},
   "outputs": [
    {
     "data": {
      "text/plain": [
       "True"
      ]
     },
     "execution_count": 28,
     "metadata": {},
     "output_type": "execute_result"
    }
   ],
   "source": [
    "s1.startswith('Cost')"
   ]
  },
  {
   "cell_type": "code",
   "execution_count": 29,
   "id": "6caa9ccd",
   "metadata": {},
   "outputs": [
    {
     "data": {
      "text/plain": [
       "False"
      ]
     },
     "execution_count": 29,
     "metadata": {},
     "output_type": "execute_result"
    }
   ],
   "source": [
    "s1.startswith('cost')"
   ]
  },
  {
   "cell_type": "code",
   "execution_count": 30,
   "id": "b89f0f0f",
   "metadata": {},
   "outputs": [
    {
     "data": {
      "text/plain": [
       "False"
      ]
     },
     "execution_count": 30,
     "metadata": {},
     "output_type": "execute_result"
    }
   ],
   "source": [
    "s1.endswith('Price')"
   ]
  },
  {
   "cell_type": "code",
   "execution_count": 32,
   "id": "a4689ed2",
   "metadata": {},
   "outputs": [
    {
     "data": {
      "text/plain": [
       "True"
      ]
     },
     "execution_count": 32,
     "metadata": {},
     "output_type": "execute_result"
    }
   ],
   "source": [
    "s1.endswith('nit')"
   ]
  },
  {
   "cell_type": "code",
   "execution_count": 33,
   "id": "a3f68890",
   "metadata": {},
   "outputs": [],
   "source": [
    "# The method \".split()\" is used to split the original string by a specified argument and returns \n",
    "# a list containing the separate values."
   ]
  },
  {
   "cell_type": "code",
   "execution_count": 34,
   "id": "81c9ff8d",
   "metadata": {},
   "outputs": [
    {
     "data": {
      "text/plain": [
       "['Cost', 'per', 'unit']"
      ]
     },
     "execution_count": 34,
     "metadata": {},
     "output_type": "execute_result"
    }
   ],
   "source": [
    "s1.split() # Using the method with no arguments automatically separates the string by the spaces contained within it."
   ]
  },
  {
   "cell_type": "code",
   "execution_count": 36,
   "id": "dde70128",
   "metadata": {},
   "outputs": [
    {
     "data": {
      "text/plain": [
       "3"
      ]
     },
     "execution_count": 36,
     "metadata": {},
     "output_type": "execute_result"
    }
   ],
   "source": [
    "len(s1.split())"
   ]
  },
  {
   "cell_type": "code",
   "execution_count": 38,
   "id": "b5b8ce8b",
   "metadata": {},
   "outputs": [
    {
     "data": {
      "text/plain": [
       "['Cost per unit']"
      ]
     },
     "execution_count": 38,
     "metadata": {},
     "output_type": "execute_result"
    }
   ],
   "source": [
    "s1.split(\" \", maxsplit = 0) # No splits will take place. If we switch the value to a number higher than the \n",
    "# existing spaces, no change will occur."
   ]
  },
  {
   "cell_type": "code",
   "execution_count": 39,
   "id": "82fa5073",
   "metadata": {},
   "outputs": [],
   "source": [
    "s2 = 'Mr., John, Wilson'"
   ]
  },
  {
   "cell_type": "code",
   "execution_count": 43,
   "id": "0b7117b9",
   "metadata": {},
   "outputs": [
    {
     "data": {
      "text/plain": [
       "['Mr.', ' John', ' Wilson']"
      ]
     },
     "execution_count": 43,
     "metadata": {},
     "output_type": "execute_result"
    }
   ],
   "source": [
    "s2.split(',') # It accepts more than whitespaces as argument for splitting."
   ]
  },
  {
   "cell_type": "markdown",
   "id": "723be521",
   "metadata": {},
   "source": [
    "## Using Various Python String Methods - Part 2"
   ]
  },
  {
   "cell_type": "code",
   "execution_count": 52,
   "id": "1054de54",
   "metadata": {},
   "outputs": [],
   "source": [
    "# There are string methods that can 'change the case' of the characters and others used for 'stripping characters'.\n",
    "\n",
    "# Group #1: .upper(), .lower(), .capitalize(), .title()\n",
    "# Group #2: .strip()"
   ]
  },
  {
   "cell_type": "code",
   "execution_count": 53,
   "id": "d2d61413",
   "metadata": {},
   "outputs": [],
   "source": [
    "s3 = 'Mrs. Amy Moore'"
   ]
  },
  {
   "cell_type": "code",
   "execution_count": 54,
   "id": "f3eaad49",
   "metadata": {},
   "outputs": [
    {
     "data": {
      "text/plain": [
       "'MRS. AMY MOORE'"
      ]
     },
     "execution_count": 54,
     "metadata": {},
     "output_type": "execute_result"
    }
   ],
   "source": [
    "s3.upper()"
   ]
  },
  {
   "cell_type": "code",
   "execution_count": 55,
   "id": "0b20eafc",
   "metadata": {},
   "outputs": [
    {
     "data": {
      "text/plain": [
       "'mrs. amy moore'"
      ]
     },
     "execution_count": 55,
     "metadata": {},
     "output_type": "execute_result"
    }
   ],
   "source": [
    "s3.lower()"
   ]
  },
  {
   "cell_type": "code",
   "execution_count": 56,
   "id": "74697d29",
   "metadata": {},
   "outputs": [
    {
     "data": {
      "text/plain": [
       "'Mrs. amy moore'"
      ]
     },
     "execution_count": 56,
     "metadata": {},
     "output_type": "execute_result"
    }
   ],
   "source": [
    "s3.capitalize()"
   ]
  },
  {
   "cell_type": "code",
   "execution_count": 57,
   "id": "b3b42733",
   "metadata": {},
   "outputs": [
    {
     "data": {
      "text/plain": [
       "'Mrs. Amy Moore'"
      ]
     },
     "execution_count": 57,
     "metadata": {},
     "output_type": "execute_result"
    }
   ],
   "source": [
    "s3.title()"
   ]
  },
  {
   "cell_type": "code",
   "execution_count": 58,
   "id": "57b61fd9",
   "metadata": {},
   "outputs": [
    {
     "data": {
      "text/plain": [
       "True"
      ]
     },
     "execution_count": 58,
     "metadata": {},
     "output_type": "execute_result"
    }
   ],
   "source": [
    "s3 == s3.title()"
   ]
  },
  {
   "cell_type": "code",
   "execution_count": 59,
   "id": "064e3ae7",
   "metadata": {},
   "outputs": [
    {
     "data": {
      "text/plain": [
       "'Cost Per Unit'"
      ]
     },
     "execution_count": 59,
     "metadata": {},
     "output_type": "execute_result"
    }
   ],
   "source": [
    "'Cost per unit'.title()"
   ]
  },
  {
   "cell_type": "code",
   "execution_count": 60,
   "id": "339e4fbe",
   "metadata": {},
   "outputs": [],
   "source": [
    "# ----"
   ]
  },
  {
   "cell_type": "code",
   "execution_count": 65,
   "id": "16f93093",
   "metadata": {},
   "outputs": [],
   "source": [
    "s4 = '   quarterly earnings report   '"
   ]
  },
  {
   "cell_type": "code",
   "execution_count": 66,
   "id": "551a0864",
   "metadata": {},
   "outputs": [
    {
     "data": {
      "text/plain": [
       "'quarterly earnings report'"
      ]
     },
     "execution_count": 66,
     "metadata": {},
     "output_type": "execute_result"
    }
   ],
   "source": [
    "s4.strip() # Removes all whitespace at the begining and the end of the string by default."
   ]
  },
  {
   "cell_type": "code",
   "execution_count": 63,
   "id": "4dbdb74c",
   "metadata": {},
   "outputs": [],
   "source": [
    "# The .strip() method looks for any of the characters specified between the quotes on both ends \n",
    "# of the given string and removes these characters until it encounters a different character."
   ]
  },
  {
   "cell_type": "code",
   "execution_count": 67,
   "id": "91b87cca",
   "metadata": {},
   "outputs": [
    {
     "data": {
      "text/plain": [
       "'uarterly earnings repor'"
      ]
     },
     "execution_count": 67,
     "metadata": {},
     "output_type": "execute_result"
    }
   ],
   "source": [
    "s4.strip(' qt')"
   ]
  },
  {
   "cell_type": "code",
   "execution_count": 68,
   "id": "6f3cefa2",
   "metadata": {},
   "outputs": [
    {
     "data": {
      "text/plain": [
       "'   quarterly earnings report   '"
      ]
     },
     "execution_count": 68,
     "metadata": {},
     "output_type": "execute_result"
    }
   ],
   "source": [
    "s4.strip('qt')"
   ]
  },
  {
   "cell_type": "code",
   "execution_count": 70,
   "id": "df545c12",
   "metadata": {},
   "outputs": [
    {
     "data": {
      "text/plain": [
       "'quarterly earnings report'"
      ]
     },
     "execution_count": 70,
     "metadata": {},
     "output_type": "execute_result"
    }
   ],
   "source": [
    "s4.strip(' ')"
   ]
  },
  {
   "cell_type": "code",
   "execution_count": 71,
   "id": "6d587c8e",
   "metadata": {},
   "outputs": [],
   "source": [
    "# In the case that we want to remove characters from a specific side of the string, not both sides as the default version, \n",
    "# we use \".lstrip()\" and \".rstrip()\""
   ]
  },
  {
   "cell_type": "code",
   "execution_count": 72,
   "id": "0c2edee6",
   "metadata": {},
   "outputs": [
    {
     "data": {
      "text/plain": [
       "'quarterly earnings report   '"
      ]
     },
     "execution_count": 72,
     "metadata": {},
     "output_type": "execute_result"
    }
   ],
   "source": [
    "s4.lstrip()"
   ]
  },
  {
   "cell_type": "code",
   "execution_count": 73,
   "id": "3bede9e2",
   "metadata": {},
   "outputs": [
    {
     "data": {
      "text/plain": [
       "'   quarterly earnings report'"
      ]
     },
     "execution_count": 73,
     "metadata": {},
     "output_type": "execute_result"
    }
   ],
   "source": [
    "s4.rstrip()"
   ]
  },
  {
   "cell_type": "code",
   "execution_count": 74,
   "id": "d8da5c29",
   "metadata": {},
   "outputs": [
    {
     "data": {
      "text/plain": [
       "'nings repo'"
      ]
     },
     "execution_count": 74,
     "metadata": {},
     "output_type": "execute_result"
    }
   ],
   "source": [
    "s4.strip(' quarterly')"
   ]
  },
  {
   "cell_type": "code",
   "execution_count": 75,
   "id": "987e2733",
   "metadata": {},
   "outputs": [],
   "source": [
    "s5 = s4.strip()"
   ]
  },
  {
   "cell_type": "code",
   "execution_count": 76,
   "id": "eece7b4b",
   "metadata": {},
   "outputs": [
    {
     "data": {
      "text/plain": [
       "' earnings report'"
      ]
     },
     "execution_count": 76,
     "metadata": {},
     "output_type": "execute_result"
    }
   ],
   "source": [
    "s5.lstrip('quarterly')"
   ]
  },
  {
   "cell_type": "code",
   "execution_count": 77,
   "id": "58fc994c",
   "metadata": {},
   "outputs": [
    {
     "data": {
      "text/plain": [
       "'quarterly earnings '"
      ]
     },
     "execution_count": 77,
     "metadata": {},
     "output_type": "execute_result"
    }
   ],
   "source": [
    "s5.rstrip('report')"
   ]
  },
  {
   "cell_type": "code",
   "execution_count": 78,
   "id": "0270f402",
   "metadata": {},
   "outputs": [],
   "source": [
    "s6 = ' %&!quarterly earnings report  *'"
   ]
  },
  {
   "cell_type": "code",
   "execution_count": 79,
   "id": "06c6a78e",
   "metadata": {},
   "outputs": [
    {
     "data": {
      "text/plain": [
       "'quarterly earnings report'"
      ]
     },
     "execution_count": 79,
     "metadata": {},
     "output_type": "execute_result"
    }
   ],
   "source": [
    "s6.strip(' !@#$%^&*()')"
   ]
  }
 ],
 "metadata": {
  "kernelspec": {
   "display_name": "Python 3 (ipykernel)",
   "language": "python",
   "name": "python3"
  },
  "language_info": {
   "codemirror_mode": {
    "name": "ipython",
    "version": 3
   },
   "file_extension": ".py",
   "mimetype": "text/x-python",
   "name": "python",
   "nbconvert_exporter": "python",
   "pygments_lexer": "ipython3",
   "version": "3.10.9"
  }
 },
 "nbformat": 4,
 "nbformat_minor": 5
}
