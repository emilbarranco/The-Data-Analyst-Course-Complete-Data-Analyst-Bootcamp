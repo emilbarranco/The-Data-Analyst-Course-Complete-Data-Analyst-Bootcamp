{
 "cells": [
  {
   "cell_type": "markdown",
   "id": "52af23a9",
   "metadata": {},
   "source": [
    "## Working with Text Data and Argument Specifiers"
   ]
  },
  {
   "cell_type": "code",
   "execution_count": 4,
   "id": "80a0af9e",
   "metadata": {},
   "outputs": [
    {
     "name": "stdout",
     "output_type": "stream",
     "text": [
      "This item is from product category \"A\".\n"
     ]
    }
   ],
   "source": [
    "product_category = 'A'\n",
    "print('This item is from product category \"%s\".' % product_category)\n",
    "\n",
    "# Argument specifier: \"%s\"\n",
    "# Used after the desired string is placed, then use the modulus operator and place the variable. "
   ]
  },
  {
   "cell_type": "code",
   "execution_count": 8,
   "id": "c4e55a74",
   "metadata": {},
   "outputs": [
    {
     "name": "stdout",
     "output_type": "stream",
     "text": [
      "This item is from product category \"C\".\n"
     ]
    }
   ],
   "source": [
    "product_category = ['A', 'B', 'C']\n",
    "print('This item is from product category \"%s\".' % product_category[2])\n",
    "\n",
    "# Argument specifier can also be used with lists while specifying the value within them.\n",
    "# %s - the combination of symbols that we use to indicate where we would like to insert not just a string, \n",
    "# but also any value or object that can have a styring representation."
   ]
  },
  {
   "cell_type": "code",
   "execution_count": 9,
   "id": "dcd7f428",
   "metadata": {},
   "outputs": [
    {
     "name": "stdout",
     "output_type": "stream",
     "text": [
      "This item is from product category \"600\".\n"
     ]
    }
   ],
   "source": [
    "quantities = [500, 600]\n",
    "print('This item is from product category \"%s\".' % quantities[1])"
   ]
  },
  {
   "cell_type": "code",
   "execution_count": 10,
   "id": "06d6b581",
   "metadata": {},
   "outputs": [
    {
     "name": "stdout",
     "output_type": "stream",
     "text": [
      "We currently have 500 available units of this item.\n"
     ]
    }
   ],
   "source": [
    "# Note that \"%d\" - the argument specifier for inserting integers.\n",
    "print(\"We currently have %d available units of this item.\" % quantities[0])"
   ]
  },
  {
   "cell_type": "code",
   "execution_count": 12,
   "id": "02fbdd09",
   "metadata": {},
   "outputs": [
    {
     "name": "stdout",
     "output_type": "stream",
     "text": [
      "This stock costs $60.350000 per share.\n"
     ]
    }
   ],
   "source": [
    "stock_share_price_list = [40.50, 60.35]\n",
    "print(\"This stock costs $%f per share.\" % stock_share_price_list[1])\n",
    "\n",
    "# Note that \"%f\" - provides six digits after the decimal point. We can add the following indicators: \n",
    "\n",
    "# \"$%f\": $60.3500000\n",
    "# \"$%.f\": $60\n",
    "# \"$%.1f\": $60.4\n",
    "# \"$%.2f\": $60.35"
   ]
  },
  {
   "cell_type": "code",
   "execution_count": 16,
   "id": "29e31eb9",
   "metadata": {},
   "outputs": [
    {
     "name": "stdout",
     "output_type": "stream",
     "text": [
      "Currently, we have 600 units of category \"B\" products in store.\n"
     ]
    }
   ],
   "source": [
    "i = 1\n",
    "print(\"Currently, we have %d units of category \\\"%s\\\" products in store.\" % (quantities[i], product_category[i]))\n",
    "\n",
    "# By using the varibale \"i\", we can switch the values presented in the console without altering the existing code."
   ]
  },
  {
   "cell_type": "markdown",
   "id": "e0c02023",
   "metadata": {},
   "source": [
    "## Manipulating Python String"
   ]
  },
  {
   "cell_type": "code",
   "execution_count": 17,
   "id": "31b25a9a",
   "metadata": {},
   "outputs": [],
   "source": [
    "# All string manipulation techniques involve the use of character combination with a backslash \"(\\)\""
   ]
  },
  {
   "cell_type": "code",
   "execution_count": 20,
   "id": "489c3ce4",
   "metadata": {},
   "outputs": [
    {
     "name": "stdout",
     "output_type": "stream",
     "text": [
      "This product is from \n",
      "\n",
      "Category \"A\".\n"
     ]
    }
   ],
   "source": [
    "# \\n (End of Line) - creates a new line and places the content there.\n",
    "print('This product is from \\n\\nCategory \"A\".')"
   ]
  },
  {
   "cell_type": "code",
   "execution_count": 21,
   "id": "1afb1ed7",
   "metadata": {},
   "outputs": [
    {
     "name": "stdout",
     "output_type": "stream",
     "text": [
      "This product is from Category \"A\". \t\t That product is from category \"B\".\n"
     ]
    }
   ],
   "source": [
    "# \\t (Tab) - creates a space in between strings.\n",
    "print('This product is from Category \"A\". \\t\\t That product is from category \"B\".')"
   ]
  },
  {
   "cell_type": "code",
   "execution_count": 23,
   "id": "8cdd00a4",
   "metadata": {},
   "outputs": [
    {
     "name": "stdout",
     "output_type": "stream",
     "text": [
      "This product is from Category \"A\". \r",
      "Product 0001\n"
     ]
    }
   ],
   "source": [
    "# \\r (Carriage Return) - replaces the same number of characters at the start.\n",
    "print('This product is from Category \"A\". \\rProduct 0001')"
   ]
  },
  {
   "cell_type": "markdown",
   "id": "230ef40d",
   "metadata": {},
   "source": [
    "## Using Various Python String Methods - Part 1"
   ]
  },
  {
   "cell_type": "code",
   "execution_count": 24,
   "id": "1538fbef",
   "metadata": {},
   "outputs": [],
   "source": [
    "# String Methods are text manipulation techniques."
   ]
  },
  {
   "cell_type": "code",
   "execution_count": 25,
   "id": "a2639387",
   "metadata": {},
   "outputs": [
    {
     "data": {
      "text/plain": [
       "'Price per unit'"
      ]
     },
     "execution_count": 25,
     "metadata": {},
     "output_type": "execute_result"
    }
   ],
   "source": [
    "s = 'Price per unit'\n",
    "s"
   ]
  },
  {
   "cell_type": "code",
   "execution_count": 26,
   "id": "1b91a140",
   "metadata": {},
   "outputs": [
    {
     "data": {
      "text/plain": [
       "'Cost per unit'"
      ]
     },
     "execution_count": 26,
     "metadata": {},
     "output_type": "execute_result"
    }
   ],
   "source": [
    "s1 = s.replace('Price', 'Cost') # first parameter is the word we wish to remove, second is the replacement\n",
    "s1"
   ]
  },
  {
   "cell_type": "code",
   "execution_count": 27,
   "id": "25c8dbb7",
   "metadata": {},
   "outputs": [],
   "source": [
    "# The methods \".startswith()\" and \".endswith()\" are used to check if a certain string begins or ends with the\n",
    "# string that has been specified as an argument. (not required to be a full word, and it is case sensitive)"
   ]
  },
  {
   "cell_type": "code",
   "execution_count": 28,
   "id": "909acf62",
   "metadata": {},
   "outputs": [
    {
     "data": {
      "text/plain": [
       "True"
      ]
     },
     "execution_count": 28,
     "metadata": {},
     "output_type": "execute_result"
    }
   ],
   "source": [
    "s1.startswith('Cost')"
   ]
  },
  {
   "cell_type": "code",
   "execution_count": 29,
   "id": "c1c83dfa",
   "metadata": {},
   "outputs": [
    {
     "data": {
      "text/plain": [
       "False"
      ]
     },
     "execution_count": 29,
     "metadata": {},
     "output_type": "execute_result"
    }
   ],
   "source": [
    "s1.startswith('cost')"
   ]
  },
  {
   "cell_type": "code",
   "execution_count": 30,
   "id": "fc3af3b4",
   "metadata": {},
   "outputs": [
    {
     "data": {
      "text/plain": [
       "False"
      ]
     },
     "execution_count": 30,
     "metadata": {},
     "output_type": "execute_result"
    }
   ],
   "source": [
    "s1.endswith('Price')"
   ]
  },
  {
   "cell_type": "code",
   "execution_count": 32,
   "id": "dda05f3a",
   "metadata": {},
   "outputs": [
    {
     "data": {
      "text/plain": [
       "True"
      ]
     },
     "execution_count": 32,
     "metadata": {},
     "output_type": "execute_result"
    }
   ],
   "source": [
    "s1.endswith('nit')"
   ]
  },
  {
   "cell_type": "code",
   "execution_count": 33,
   "id": "ed82bc11",
   "metadata": {},
   "outputs": [],
   "source": [
    "# The method \".split()\" is used to split the original string by a specified argument and returns \n",
    "# a list containing the separate values."
   ]
  },
  {
   "cell_type": "code",
   "execution_count": 34,
   "id": "deb595b8",
   "metadata": {},
   "outputs": [
    {
     "data": {
      "text/plain": [
       "['Cost', 'per', 'unit']"
      ]
     },
     "execution_count": 34,
     "metadata": {},
     "output_type": "execute_result"
    }
   ],
   "source": [
    "s1.split() # Using the method with no arguments automatically separates the string by the spaces contained within it."
   ]
  },
  {
   "cell_type": "code",
   "execution_count": 36,
   "id": "b4fbb917",
   "metadata": {},
   "outputs": [
    {
     "data": {
      "text/plain": [
       "3"
      ]
     },
     "execution_count": 36,
     "metadata": {},
     "output_type": "execute_result"
    }
   ],
   "source": [
    "len(s1.split())"
   ]
  },
  {
   "cell_type": "code",
   "execution_count": 38,
   "id": "d81927ed",
   "metadata": {},
   "outputs": [
    {
     "data": {
      "text/plain": [
       "['Cost per unit']"
      ]
     },
     "execution_count": 38,
     "metadata": {},
     "output_type": "execute_result"
    }
   ],
   "source": [
    "s1.split(\" \", maxsplit = 0) # No splits will take place. If we switch the value to a number higher than the \n",
    "# existing spaces, no change will occur."
   ]
  },
  {
   "cell_type": "code",
   "execution_count": 39,
   "id": "0e0b5086",
   "metadata": {},
   "outputs": [],
   "source": [
    "s2 = 'Mr., John, Wilson'"
   ]
  },
  {
   "cell_type": "code",
   "execution_count": 43,
   "id": "b1a9ab7e",
   "metadata": {},
   "outputs": [
    {
     "data": {
      "text/plain": [
       "['Mr.', ' John', ' Wilson']"
      ]
     },
     "execution_count": 43,
     "metadata": {},
     "output_type": "execute_result"
    }
   ],
   "source": [
    "s2.split(',') # It accepts more than whitespaces as argument for splitting."
   ]
  },
  {
   "cell_type": "markdown",
   "id": "35d157aa",
   "metadata": {},
   "source": [
    "## Using Various Python String Methods - Part 2"
   ]
  },
  {
   "cell_type": "code",
   "execution_count": 52,
   "id": "7a85e532",
   "metadata": {},
   "outputs": [],
   "source": [
    "# There are string methods that can 'change the case' of the characters and others used for 'stripping characters'.\n",
    "\n",
    "# Group #1: .upper(), .lower(), .capitalize(), .title()\n",
    "# Group #2: .strip()"
   ]
  },
  {
   "cell_type": "code",
   "execution_count": 53,
   "id": "0438e0f0",
   "metadata": {},
   "outputs": [],
   "source": [
    "s3 = 'Mrs. Amy Moore'"
   ]
  },
  {
   "cell_type": "code",
   "execution_count": 54,
   "id": "4e96524f",
   "metadata": {},
   "outputs": [
    {
     "data": {
      "text/plain": [
       "'MRS. AMY MOORE'"
      ]
     },
     "execution_count": 54,
     "metadata": {},
     "output_type": "execute_result"
    }
   ],
   "source": [
    "s3.upper()"
   ]
  },
  {
   "cell_type": "code",
   "execution_count": 55,
   "id": "df6e776b",
   "metadata": {},
   "outputs": [
    {
     "data": {
      "text/plain": [
       "'mrs. amy moore'"
      ]
     },
     "execution_count": 55,
     "metadata": {},
     "output_type": "execute_result"
    }
   ],
   "source": [
    "s3.lower()"
   ]
  },
  {
   "cell_type": "code",
   "execution_count": 56,
   "id": "b4994991",
   "metadata": {},
   "outputs": [
    {
     "data": {
      "text/plain": [
       "'Mrs. amy moore'"
      ]
     },
     "execution_count": 56,
     "metadata": {},
     "output_type": "execute_result"
    }
   ],
   "source": [
    "s3.capitalize()"
   ]
  },
  {
   "cell_type": "code",
   "execution_count": 57,
   "id": "142bb88b",
   "metadata": {},
   "outputs": [
    {
     "data": {
      "text/plain": [
       "'Mrs. Amy Moore'"
      ]
     },
     "execution_count": 57,
     "metadata": {},
     "output_type": "execute_result"
    }
   ],
   "source": [
    "s3.title()"
   ]
  },
  {
   "cell_type": "code",
   "execution_count": 58,
   "id": "67b009f0",
   "metadata": {},
   "outputs": [
    {
     "data": {
      "text/plain": [
       "True"
      ]
     },
     "execution_count": 58,
     "metadata": {},
     "output_type": "execute_result"
    }
   ],
   "source": [
    "s3 == s3.title()"
   ]
  },
  {
   "cell_type": "code",
   "execution_count": 59,
   "id": "ab1d3873",
   "metadata": {},
   "outputs": [
    {
     "data": {
      "text/plain": [
       "'Cost Per Unit'"
      ]
     },
     "execution_count": 59,
     "metadata": {},
     "output_type": "execute_result"
    }
   ],
   "source": [
    "'Cost per unit'.title()"
   ]
  },
  {
   "cell_type": "code",
   "execution_count": 60,
   "id": "d7da98c3",
   "metadata": {},
   "outputs": [],
   "source": [
    "# ----"
   ]
  },
  {
   "cell_type": "code",
   "execution_count": 65,
   "id": "9d69cca0",
   "metadata": {},
   "outputs": [],
   "source": [
    "s4 = '   quarterly earnings report   '"
   ]
  },
  {
   "cell_type": "code",
   "execution_count": 66,
   "id": "5a4ffd44",
   "metadata": {},
   "outputs": [
    {
     "data": {
      "text/plain": [
       "'quarterly earnings report'"
      ]
     },
     "execution_count": 66,
     "metadata": {},
     "output_type": "execute_result"
    }
   ],
   "source": [
    "s4.strip() # Removes all whitespace at the begining and the end of the string by default."
   ]
  },
  {
   "cell_type": "code",
   "execution_count": 63,
   "id": "e687006e",
   "metadata": {},
   "outputs": [],
   "source": [
    "# The .strip() method looks for any of the characters specified between the quotes on both ends \n",
    "# of the given string and removes these characters until it encounters a different character."
   ]
  },
  {
   "cell_type": "code",
   "execution_count": 67,
   "id": "b04f5463",
   "metadata": {},
   "outputs": [
    {
     "data": {
      "text/plain": [
       "'uarterly earnings repor'"
      ]
     },
     "execution_count": 67,
     "metadata": {},
     "output_type": "execute_result"
    }
   ],
   "source": [
    "s4.strip(' qt')"
   ]
  },
  {
   "cell_type": "code",
   "execution_count": 68,
   "id": "4f526588",
   "metadata": {},
   "outputs": [
    {
     "data": {
      "text/plain": [
       "'   quarterly earnings report   '"
      ]
     },
     "execution_count": 68,
     "metadata": {},
     "output_type": "execute_result"
    }
   ],
   "source": [
    "s4.strip('qt')"
   ]
  },
  {
   "cell_type": "code",
   "execution_count": 70,
   "id": "262b5d84",
   "metadata": {},
   "outputs": [
    {
     "data": {
      "text/plain": [
       "'quarterly earnings report'"
      ]
     },
     "execution_count": 70,
     "metadata": {},
     "output_type": "execute_result"
    }
   ],
   "source": [
    "s4.strip(' ')"
   ]
  },
  {
   "cell_type": "code",
   "execution_count": 71,
   "id": "bf58285e",
   "metadata": {},
   "outputs": [],
   "source": [
    "# In the case that we want to remove characters from a specific side of the string, not both sides as the default version, \n",
    "# we use \".lstrip()\" and \".rstrip()\""
   ]
  },
  {
   "cell_type": "code",
   "execution_count": 72,
   "id": "ae6c1d84",
   "metadata": {},
   "outputs": [
    {
     "data": {
      "text/plain": [
       "'quarterly earnings report   '"
      ]
     },
     "execution_count": 72,
     "metadata": {},
     "output_type": "execute_result"
    }
   ],
   "source": [
    "s4.lstrip()"
   ]
  },
  {
   "cell_type": "code",
   "execution_count": 73,
   "id": "0b36717a",
   "metadata": {},
   "outputs": [
    {
     "data": {
      "text/plain": [
       "'   quarterly earnings report'"
      ]
     },
     "execution_count": 73,
     "metadata": {},
     "output_type": "execute_result"
    }
   ],
   "source": [
    "s4.rstrip()"
   ]
  },
  {
   "cell_type": "code",
   "execution_count": 74,
   "id": "952eafa9",
   "metadata": {},
   "outputs": [
    {
     "data": {
      "text/plain": [
       "'nings repo'"
      ]
     },
     "execution_count": 74,
     "metadata": {},
     "output_type": "execute_result"
    }
   ],
   "source": [
    "s4.strip(' quarterly')"
   ]
  },
  {
   "cell_type": "code",
   "execution_count": 75,
   "id": "97992b4d",
   "metadata": {},
   "outputs": [],
   "source": [
    "s5 = s4.strip()"
   ]
  },
  {
   "cell_type": "code",
   "execution_count": 76,
   "id": "3271622e",
   "metadata": {},
   "outputs": [
    {
     "data": {
      "text/plain": [
       "' earnings report'"
      ]
     },
     "execution_count": 76,
     "metadata": {},
     "output_type": "execute_result"
    }
   ],
   "source": [
    "s5.lstrip('quarterly')"
   ]
  },
  {
   "cell_type": "code",
   "execution_count": 77,
   "id": "e2a5415f",
   "metadata": {},
   "outputs": [
    {
     "data": {
      "text/plain": [
       "'quarterly earnings '"
      ]
     },
     "execution_count": 77,
     "metadata": {},
     "output_type": "execute_result"
    }
   ],
   "source": [
    "s5.rstrip('report')"
   ]
  },
  {
   "cell_type": "code",
   "execution_count": 78,
   "id": "28429fed",
   "metadata": {},
   "outputs": [],
   "source": [
    "s6 = ' %&!quarterly earnings report  *'"
   ]
  },
  {
   "cell_type": "code",
   "execution_count": 79,
   "id": "42d266e9",
   "metadata": {},
   "outputs": [
    {
     "data": {
      "text/plain": [
       "'quarterly earnings report'"
      ]
     },
     "execution_count": 79,
     "metadata": {},
     "output_type": "execute_result"
    }
   ],
   "source": [
    "s6.strip(' !@#$%^&*()')"
   ]
  },
  {
   "cell_type": "code",
   "execution_count": null,
   "id": "87be6e71",
   "metadata": {},
   "outputs": [],
   "source": []
  }
 ],
 "metadata": {
  "kernelspec": {
   "display_name": "Python 3 (ipykernel)",
   "language": "python",
   "name": "python3"
  },
  "language_info": {
   "codemirror_mode": {
    "name": "ipython",
    "version": 3
   },
   "file_extension": ".py",
   "mimetype": "text/x-python",
   "name": "python",
   "nbconvert_exporter": "python",
   "pygments_lexer": "ipython3",
   "version": "3.10.9"
  }
 },
 "nbformat": 4,
 "nbformat_minor": 5
}
