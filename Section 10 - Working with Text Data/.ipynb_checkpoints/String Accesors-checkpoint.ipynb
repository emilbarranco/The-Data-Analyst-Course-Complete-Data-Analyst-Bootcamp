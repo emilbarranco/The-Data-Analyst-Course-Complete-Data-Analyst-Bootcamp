{
 "cells": [
  {
   "cell_type": "code",
   "execution_count": 1,
   "id": "8f6da5ef",
   "metadata": {},
   "outputs": [],
   "source": [
    "import pandas as pd"
   ]
  },
  {
   "cell_type": "code",
   "execution_count": 2,
   "id": "ee2f6691",
   "metadata": {},
   "outputs": [
    {
     "data": {
      "text/plain": [
       "0    Employee Satisfaction Survey\n",
       "1             Employee Churn Rate\n",
       "dtype: object"
      ]
     },
     "execution_count": 2,
     "metadata": {},
     "output_type": "execute_result"
    }
   ],
   "source": [
    "operational_kpis = pd.Series(['Employee Satisfaction Survey', 'Employee Churn Rate'])\n",
    "operational_kpis"
   ]
  },
  {
   "cell_type": "code",
   "execution_count": 3,
   "id": "6c4ad258",
   "metadata": {},
   "outputs": [
    {
     "ename": "AttributeError",
     "evalue": "'Series' object has no attribute 'lstrip'",
     "output_type": "error",
     "traceback": [
      "\u001b[1;31m---------------------------------------------------------------------------\u001b[0m",
      "\u001b[1;31mAttributeError\u001b[0m                            Traceback (most recent call last)",
      "Cell \u001b[1;32mIn[3], line 1\u001b[0m\n\u001b[1;32m----> 1\u001b[0m \u001b[43moperational_kpis\u001b[49m\u001b[38;5;241;43m.\u001b[39;49m\u001b[43mlstrip\u001b[49m(\u001b[38;5;124m'\u001b[39m\u001b[38;5;124mEmployee\u001b[39m\u001b[38;5;124m'\u001b[39m)\n",
      "File \u001b[1;32m~\\anaconda3\\lib\\site-packages\\pandas\\core\\generic.py:5989\u001b[0m, in \u001b[0;36mNDFrame.__getattr__\u001b[1;34m(self, name)\u001b[0m\n\u001b[0;32m   5982\u001b[0m \u001b[38;5;28;01mif\u001b[39;00m (\n\u001b[0;32m   5983\u001b[0m     name \u001b[38;5;129;01mnot\u001b[39;00m \u001b[38;5;129;01min\u001b[39;00m \u001b[38;5;28mself\u001b[39m\u001b[38;5;241m.\u001b[39m_internal_names_set\n\u001b[0;32m   5984\u001b[0m     \u001b[38;5;129;01mand\u001b[39;00m name \u001b[38;5;129;01mnot\u001b[39;00m \u001b[38;5;129;01min\u001b[39;00m \u001b[38;5;28mself\u001b[39m\u001b[38;5;241m.\u001b[39m_metadata\n\u001b[0;32m   5985\u001b[0m     \u001b[38;5;129;01mand\u001b[39;00m name \u001b[38;5;129;01mnot\u001b[39;00m \u001b[38;5;129;01min\u001b[39;00m \u001b[38;5;28mself\u001b[39m\u001b[38;5;241m.\u001b[39m_accessors\n\u001b[0;32m   5986\u001b[0m     \u001b[38;5;129;01mand\u001b[39;00m \u001b[38;5;28mself\u001b[39m\u001b[38;5;241m.\u001b[39m_info_axis\u001b[38;5;241m.\u001b[39m_can_hold_identifiers_and_holds_name(name)\n\u001b[0;32m   5987\u001b[0m ):\n\u001b[0;32m   5988\u001b[0m     \u001b[38;5;28;01mreturn\u001b[39;00m \u001b[38;5;28mself\u001b[39m[name]\n\u001b[1;32m-> 5989\u001b[0m \u001b[38;5;28;01mreturn\u001b[39;00m \u001b[38;5;28;43mobject\u001b[39;49m\u001b[38;5;241;43m.\u001b[39;49m\u001b[38;5;21;43m__getattribute__\u001b[39;49m\u001b[43m(\u001b[49m\u001b[38;5;28;43mself\u001b[39;49m\u001b[43m,\u001b[49m\u001b[43m \u001b[49m\u001b[43mname\u001b[49m\u001b[43m)\u001b[49m\n",
      "\u001b[1;31mAttributeError\u001b[0m: 'Series' object has no attribute 'lstrip'"
     ]
    }
   ],
   "source": [
    "operational_kpis.lstrip('Employee')"
   ]
  },
  {
   "cell_type": "code",
   "execution_count": 4,
   "id": "9a707f31",
   "metadata": {},
   "outputs": [
    {
     "data": {
      "text/plain": [
       "' Satisfaction Survey'"
      ]
     },
     "execution_count": 4,
     "metadata": {},
     "output_type": "execute_result"
    }
   ],
   "source": [
    "operational_kpis[0].lstrip('Employee')"
   ]
  },
  {
   "cell_type": "code",
   "execution_count": 5,
   "id": "94489357",
   "metadata": {},
   "outputs": [
    {
     "data": {
      "text/plain": [
       "' Churn Rate'"
      ]
     },
     "execution_count": 5,
     "metadata": {},
     "output_type": "execute_result"
    }
   ],
   "source": [
    "operational_kpis[1].lstrip('Employee')"
   ]
  },
  {
   "cell_type": "code",
   "execution_count": 8,
   "id": "1c5004dd",
   "metadata": {},
   "outputs": [
    {
     "data": {
      "text/plain": [
       "0     Satisfaction Survey\n",
       "1              Churn Rate\n",
       "dtype: object"
      ]
     },
     "execution_count": 8,
     "metadata": {},
     "output_type": "execute_result"
    }
   ],
   "source": [
    "pd.Series([operational_kpis[0].lstrip('Employee'), operational_kpis[1].lstrip('Employee')])"
   ]
  },
  {
   "cell_type": "code",
   "execution_count": 9,
   "id": "86881e33",
   "metadata": {},
   "outputs": [],
   "source": [
    "# A string accesor is similar to referring an object's attributes and modifying them. Syntactically, \n",
    "# it consists of writing '.str' after the string, and the string method subsequently. It's basically \n",
    "# accesing the values of a Series and applying string methods to them."
   ]
  },
  {
   "cell_type": "code",
   "execution_count": 10,
   "id": "3d7b91a0",
   "metadata": {},
   "outputs": [
    {
     "name": "stdout",
     "output_type": "stream",
     "text": [
      "<pandas.core.strings.accessor.StringMethods object at 0x00000240E15A2020>\n"
     ]
    }
   ],
   "source": [
    "print(operational_kpis.str)"
   ]
  },
  {
   "cell_type": "code",
   "execution_count": 11,
   "id": "a3f5a906",
   "metadata": {},
   "outputs": [],
   "source": [
    "# Example // Usage of string accesors with string methods in Series"
   ]
  },
  {
   "cell_type": "code",
   "execution_count": 12,
   "id": "3d9bf9de",
   "metadata": {},
   "outputs": [
    {
     "data": {
      "text/plain": [
       "0     Satisfaction Survey\n",
       "1              Churn Rate\n",
       "dtype: object"
      ]
     },
     "execution_count": 12,
     "metadata": {},
     "output_type": "execute_result"
    }
   ],
   "source": [
    "operational_kpis.str.lstrip('Employee')"
   ]
  },
  {
   "cell_type": "code",
   "execution_count": 13,
   "id": "ed29f60d",
   "metadata": {},
   "outputs": [
    {
     "data": {
      "text/plain": [
       "0    Text_data\n",
       "1           34\n",
       "dtype: object"
      ]
     },
     "execution_count": 13,
     "metadata": {},
     "output_type": "execute_result"
    }
   ],
   "source": [
    "test_series = pd.Series(['Text_data', 34])\n",
    "test_series"
   ]
  },
  {
   "cell_type": "code",
   "execution_count": 14,
   "id": "f63c08e7",
   "metadata": {},
   "outputs": [
    {
     "data": {
      "text/plain": [
       "0    data\n",
       "1     NaN\n",
       "dtype: object"
      ]
     },
     "execution_count": 14,
     "metadata": {},
     "output_type": "execute_result"
    }
   ],
   "source": [
    "test_series.str.lstrip('Text_') # not supposed to apply to numbers"
   ]
  },
  {
   "cell_type": "code",
   "execution_count": 15,
   "id": "6d1e09b3",
   "metadata": {},
   "outputs": [],
   "source": [
    "test_series = pd.Series(['Text_data', '34'])"
   ]
  },
  {
   "cell_type": "code",
   "execution_count": 16,
   "id": "bbcc8c7c",
   "metadata": {},
   "outputs": [
    {
     "data": {
      "text/plain": [
       "0    data\n",
       "1      34\n",
       "dtype: object"
      ]
     },
     "execution_count": 16,
     "metadata": {},
     "output_type": "execute_result"
    }
   ],
   "source": [
    "test_series.str.lstrip('Text_')"
   ]
  },
  {
   "cell_type": "code",
   "execution_count": 17,
   "id": "201098a8",
   "metadata": {},
   "outputs": [
    {
     "data": {
      "text/plain": [
       "0    $400,000\n",
       "1    $500,000\n",
       "2    $600,000\n",
       "dtype: object"
      ]
     },
     "execution_count": 17,
     "metadata": {},
     "output_type": "execute_result"
    }
   ],
   "source": [
    "house_prices = pd.Series(['$400,000', '$500,000', '$600,000'])\n",
    "house_prices"
   ]
  },
  {
   "cell_type": "code",
   "execution_count": 18,
   "id": "acb0d0ac",
   "metadata": {},
   "outputs": [
    {
     "data": {
      "text/plain": [
       "0    True\n",
       "1    True\n",
       "2    True\n",
       "dtype: bool"
      ]
     },
     "execution_count": 18,
     "metadata": {},
     "output_type": "execute_result"
    }
   ],
   "source": [
    "house_prices.str.contains(\"$\") # checks T/F for argument found in values"
   ]
  },
  {
   "cell_type": "code",
   "execution_count": null,
   "id": "31933bac",
   "metadata": {},
   "outputs": [],
   "source": []
  }
 ],
 "metadata": {
  "kernelspec": {
   "display_name": "Python 3 (ipykernel)",
   "language": "python",
   "name": "python3"
  },
  "language_info": {
   "codemirror_mode": {
    "name": "ipython",
    "version": 3
   },
   "file_extension": ".py",
   "mimetype": "text/x-python",
   "name": "python",
   "nbconvert_exporter": "python",
   "pygments_lexer": "ipython3",
   "version": "3.10.9"
  }
 },
 "nbformat": 4,
 "nbformat_minor": 5
}
